{
 "cells": [
  {
   "cell_type": "code",
   "execution_count": 1,
   "metadata": {},
   "outputs": [
    {
     "name": "stdout",
     "output_type": "stream",
     "text": [
      "Hello Player\n"
     ]
    }
   ],
   "source": [
    "message = 'Hello Player'\n",
    "print(message)"
   ]
  },
  {
   "cell_type": "code",
   "execution_count": 2,
   "metadata": {},
   "outputs": [
    {
     "name": "stdout",
     "output_type": "stream",
     "text": [
      "friend\n"
     ]
    }
   ],
   "source": [
    "message = 'friend'\n",
    "print(message)"
   ]
  },
  {
   "cell_type": "code",
   "execution_count": 3,
   "metadata": {},
   "outputs": [
    {
     "name": "stdout",
     "output_type": "stream",
     "text": [
      "Welcome Player\n",
      "Do you want to play a game?\n"
     ]
    }
   ],
   "source": [
    "message = 'Welcome Player'\n",
    "print(message)\n",
    "\n",
    "message = 'Do you want to play a game?'\n",
    "print(message)"
   ]
  },
  {
   "cell_type": "code",
   "execution_count": 17,
   "metadata": {},
   "outputs": [
    {
     "name": "stdout",
     "output_type": "stream",
     "text": [
      "Hello ROCKSTAR!!!\n",
      "Are you ready to take on a challenge?\n",
      "Yes or No:Yes\n"
     ]
    }
   ],
   "source": [
    "message = 'Hello ROCKSTAR!!!'\n",
    "print(message)\n",
    "\n",
    "message = 'Are you ready to take on a challenge?'\n",
    "print(message)\n",
    "\n",
    "select=['Yes', 'No']\n",
    "select = input(\"Yes or No:\").lower()\n",
    "if select =='Yes':\n",
    "    print ('Are you ready to Cover, Cut, or Smash?')\n",
    "    print ('Lets Play Rock, Paper, Scissors!  You will be Mario, I will be Luegi!')"
   ]
  },
  {
   "cell_type": "code",
   "execution_count": 3,
   "metadata": {},
   "outputs": [
    {
     "name": "stdout",
     "output_type": "stream",
     "text": [
      "Hello ROCKSTAR!!!\n",
      "Are you ready to take on a challenge?\n",
      "Yes or No:yes\n",
      "Are you ready to Cover, Cut, or Smash?\n",
      "Lets Play Rock, Paper, Scissors!  You will be Mario, I will be Luegi!\n"
     ]
    }
   ],
   "source": [
    "message = 'Hello ROCKSTAR!!!'\n",
    "print(message)\n",
    "\n",
    "message = 'Are you ready to take on a challenge?'\n",
    "print(message)\n",
    "\n",
    "select=['Yes', 'No']\n",
    "select = input('Yes or No:').lower()\n",
    "if select =='yes':\n",
    "    print ('Are you ready to Cover, Cut, or Smash?')\n",
    "    print ('Lets Play Rock, Paper, Scissors!  You will be Mario, I will be Luegi!')"
   ]
  },
  {
   "cell_type": "code",
   "execution_count": null,
   "metadata": {},
   "outputs": [],
   "source": [
    "message = 'Hello ROCKSTAR!!!'\n",
    "print(message)\n",
    "\n",
    "message = 'Are you ready to take on a challenge?'\n",
    "print(message)\n",
    "\n",
    "select=['Yes', 'No']\n",
    "select = input('Yes or No:').lower()\n",
    "if select =='yes':\n",
    "    print ('Are you ready to Cover, Cut, or Smash?')\n",
    "    print ('Lets Play Rock, Paper, Scissors!  You will be Mario, I will be Luegi!')\n",
    "\n",
    "again = 'Yes'\n",
    "while (again=='Yes'):\n",
    "    \n",
    "    player1 = (input('Mario: Select Rock, Paper, or Scissors:')).lower()\n",
    "    player2 = (input('Luegi: Select Rock, Paper, or Scissors:')).lower()\n",
    "    \n",
    "    if (player1 == 'Rock'):\n",
    "        if (player2 == 'Rock'):\n",
    "            print('Great Minds think alike, try again!')\n",
    "        elif (player2 == 'Paper'):\n",
    "            print('Paper Covers Rock, Luegi Wins!')\n",
    "        elif (player2 == 'Scissors'):\n",
    "            print('Rock Smashes Scissors, Mario Wins!')\n",
    "                \n",
    "        elif (player1 == 'Paper'):\n",
    "            if(player2 == 'Rock'):\n",
    "                print('Paper Covers Rock, Mario Wins!')\n",
    "        elif (player2 == 'Paper'):\n",
    "            print('Great Minds think alike, try again')\n",
    "        elif (player2 == 'Scissors'):\n",
    "            print(\"Scissors cut Paper, Luegi Wins!\")\n",
    "                \n",
    "        elif (player1 == 'Scissors'):\n",
    "            if(player2 == 'Rock'):\n",
    "                print('Rock Smashes Scissors, Luegi Wins!')\n",
    "        elif (player2 == 'Paper'):\n",
    "            print('Scissors cut Paper, Mario Wins!')\n",
    "        elif (player2 == 'Scissors'):\n",
    "            print('Great Minds think alike, try again')\n",
    "    else:\n",
    "        print('Good thing this is not a spelling test, try again.')\n",
    "        \n",
    "play_again = input('Do you want to play again, yes/no: ').lower()\n",
    "if play_again == 'no':\n",
    "    play_again = False\n",
    "    print('Thanks for stopping by, See you later!')"
   ]
  },
  {
   "cell_type": "code",
   "execution_count": null,
   "metadata": {},
   "outputs": [
    {
     "name": "stdout",
     "output_type": "stream",
     "text": [
      "Hello ROCKSTAR!!!\n",
      "Are you ready to take on a challenge?\n",
      "yes or no:no\n",
      "Mario: Select Rock, Paper, or Scissors:yes\n",
      "Luegi: Select Rock, Paper, or Scissors:no\n",
      "Good thing this is not a spelling test, try again.\n",
      "Mario: Select Rock, Paper, or Scissors:paper\n",
      "Luegi: Select Rock, Paper, or Scissors:rock\n",
      "Paper Covers Rock, Mario Wins!\n"
     ]
    }
   ],
   "source": [
    "message = 'Hello ROCKSTAR!!!'\n",
    "print(message)\n",
    "\n",
    "message = 'Are you ready to take on a challenge?'\n",
    "print(message)\n",
    "select=['yes', 'no']\n",
    "select = input('yes or no:').lower()\n",
    "if select =='yes':\n",
    "    print ('Are you ready to Cover, Cut, or Smash?')\n",
    "    print ('Lets Play Rock, Paper, Scissors!  You will be Mario, I will be Luegi!')\n",
    "\n",
    "play_again = 'yes'\n",
    "while play_again=='yes':\n",
    "\n",
    "    player1 = (input('Mario: Select Rock, Paper, or Scissors:')).lower()\n",
    "    player2 = (input('Luegi: Select Rock, Paper, or Scissors:')).lower()\n",
    "    \n",
    "    if player1 == 'rock' and player2 == 'rock':\n",
    "        print('Great Minds think alike, try again!')\n",
    "    elif player1 == 'rock' and player2 == 'paper':\n",
    "        print('Paper Covers Rock, Luegi Wins!')\n",
    "    elif player1 == 'rock' and player2 == 'scissors':\n",
    "        print('Rock Smashes Scissors, Mario Wins!')\n",
    "    elif player1 == 'paper' and player2 == 'rock':\n",
    "        print('Paper Covers Rock, Mario Wins!')\n",
    "    elif player1 == 'paper' and player2 == 'paper':\n",
    "        print('Great Minds think alike, try again')\n",
    "    elif player1 == 'paper' and player2 == 'scissors':\n",
    "        print(\"Scissors cut Paper, Luegi Wins!\")\n",
    "    elif player1 == 'scissors' and player2 == 'rock':\n",
    "        print('Rock Smashes Scissors, Luegi Wins!')\n",
    "    elif player1 == 'scissors' and player2 == 'paper':\n",
    "        print('Scissors cut Paper, Mario Wins!')\n",
    "    elif player1 == 'scissors' and player2 == 'scissors':\n",
    "        print('Great Minds think alike, try again')\n",
    "    else:\n",
    "        print('Good thing this is not a spelling test, try again.')\n",
    "\n",
    "play_again = input('Do you want to play again, yes/no: ').lower()\n",
    "if play_again == 'no':\n",
    "    play_again = False\n",
    "    print('Thanks for stopping by, See you later!')"
   ]
  },
  {
   "cell_type": "raw",
   "metadata": {},
   "source": []
  },
  {
   "cell_type": "code",
   "execution_count": null,
   "metadata": {},
   "outputs": [],
   "source": []
  }
 ],
 "metadata": {
  "kernelspec": {
   "display_name": "Python 3",
   "language": "python",
   "name": "python3"
  },
  "language_info": {
   "codemirror_mode": {
    "name": "ipython",
    "version": 3
   },
   "file_extension": ".py",
   "mimetype": "text/x-python",
   "name": "python",
   "nbconvert_exporter": "python",
   "pygments_lexer": "ipython3",
   "version": "3.8.5"
  }
 },
 "nbformat": 4,
 "nbformat_minor": 4
}
